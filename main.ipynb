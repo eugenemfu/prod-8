{
 "cells": [
  {
   "cell_type": "code",
   "execution_count": 50,
   "metadata": {},
   "outputs": [
    {
     "name": "stderr",
     "output_type": "stream",
     "text": [
      "[nltk_data] Downloading package stopwords to /home/eugene/nltk_data...\n",
      "[nltk_data]   Package stopwords is already up-to-date!\n",
      "[nltk_data] Downloading package punkt to /home/eugene/nltk_data...\n",
      "[nltk_data]   Package punkt is already up-to-date!\n",
      "[nltk_data] Downloading package wordnet to /home/eugene/nltk_data...\n",
      "[nltk_data]   Package wordnet is already up-to-date!\n"
     ]
    }
   ],
   "source": [
    "import numpy as np\n",
    "import pandas as pd\n",
    "import nltk\n",
    "from nltk.corpus import stopwords\n",
    "from string import punctuation\n",
    "from collections import Counter\n",
    "import scipy as sp\n",
    "from sklearn.decomposition import LatentDirichletAllocation\n",
    "import matplotlib.pyplot as plt\n",
    "nltk.download('stopwords')\n",
    "nltk.download('punkt')\n",
    "nltk.download('wordnet')\n",
    "np.random.seed(42)"
   ]
  },
  {
   "cell_type": "markdown",
   "metadata": {},
   "source": [
    "# Тематическое моделирование (истории из прода).\n",
    "\n",
    "## Загрузка данных"
   ]
  },
  {
   "cell_type": "code",
   "execution_count": 51,
   "metadata": {},
   "outputs": [
    {
     "data": {
      "text/html": [
       "<div>\n",
       "<style scoped>\n",
       "    .dataframe tbody tr th:only-of-type {\n",
       "        vertical-align: middle;\n",
       "    }\n",
       "\n",
       "    .dataframe tbody tr th {\n",
       "        vertical-align: top;\n",
       "    }\n",
       "\n",
       "    .dataframe thead th {\n",
       "        text-align: right;\n",
       "    }\n",
       "</style>\n",
       "<table border=\"1\" class=\"dataframe\">\n",
       "  <thead>\n",
       "    <tr style=\"text-align: right;\">\n",
       "      <th></th>\n",
       "      <th>idReadable</th>\n",
       "      <th>created</th>\n",
       "      <th>summary</th>\n",
       "      <th>description</th>\n",
       "      <th>Affected versions</th>\n",
       "    </tr>\n",
       "  </thead>\n",
       "  <tbody>\n",
       "    <tr>\n",
       "      <th>0</th>\n",
       "      <td>PY-22135</td>\n",
       "      <td>1483471995465</td>\n",
       "      <td>\"Parameter foo unfilled\": false positives for ...</td>\n",
       "      <td>I'm getting false \"Incorrect call argument\" in...</td>\n",
       "      <td>[2016.3]</td>\n",
       "    </tr>\n",
       "    <tr>\n",
       "      <th>1</th>\n",
       "      <td>PY-22143</td>\n",
       "      <td>1483528763930</td>\n",
       "      <td>Python Extract Superclass: Incorrect Order of ...</td>\n",
       "      <td>When extracting superclasses, if extractions i...</td>\n",
       "      <td>[2016.3]</td>\n",
       "    </tr>\n",
       "    <tr>\n",
       "      <th>2</th>\n",
       "      <td>PY-22145</td>\n",
       "      <td>1483545972098</td>\n",
       "      <td>Inspection does not report 'Unresolved Referen...</td>\n",
       "      <td>If a variable is deleted using the `del` state...</td>\n",
       "      <td>[2016.2]</td>\n",
       "    </tr>\n",
       "    <tr>\n",
       "      <th>3</th>\n",
       "      <td>PY-22149</td>\n",
       "      <td>1483572086024</td>\n",
       "      <td>ipython notebook clear_output() not working</td>\n",
       "      <td>Below code should print only once \"Hellow Worl...</td>\n",
       "      <td>[]</td>\n",
       "    </tr>\n",
       "    <tr>\n",
       "      <th>4</th>\n",
       "      <td>PY-22128</td>\n",
       "      <td>1483387969625</td>\n",
       "      <td>False negative: no error for round brackets in...</td>\n",
       "      <td>I believe it's rather a common typo to use rou...</td>\n",
       "      <td>[2017.1]</td>\n",
       "    </tr>\n",
       "    <tr>\n",
       "      <th>...</th>\n",
       "      <td>...</td>\n",
       "      <td>...</td>\n",
       "      <td>...</td>\n",
       "      <td>...</td>\n",
       "      <td>...</td>\n",
       "    </tr>\n",
       "    <tr>\n",
       "      <th>22009</th>\n",
       "      <td>PY-51597</td>\n",
       "      <td>1636879129851</td>\n",
       "      <td>Intellij don't recognize python3 installed by ...</td>\n",
       "      <td>\\n\\nIU-212.5457.46, JRE 11.0.12+7-b1504.40x64 ...</td>\n",
       "      <td>[]</td>\n",
       "    </tr>\n",
       "    <tr>\n",
       "      <th>22010</th>\n",
       "      <td>PY-51594</td>\n",
       "      <td>1636908525899</td>\n",
       "      <td>url tag in django template that uses filters o...</td>\n",
       "      <td>When using the {% url %} tag in a Django templ...</td>\n",
       "      <td>[]</td>\n",
       "    </tr>\n",
       "    <tr>\n",
       "      <th>22011</th>\n",
       "      <td>PY-51588</td>\n",
       "      <td>1636866008572</td>\n",
       "      <td>Variable incorrectly marked as used</td>\n",
       "      <td>Hi, in this example, tha variable 'idocking' i...</td>\n",
       "      <td>[]</td>\n",
       "    </tr>\n",
       "    <tr>\n",
       "      <th>22012</th>\n",
       "      <td>PY-51595</td>\n",
       "      <td>1636912616563</td>\n",
       "      <td>Warn on invalid iterable unpack</td>\n",
       "      <td>```python\\nimport time\\n\\ndef foo() -&gt; float:\\...</td>\n",
       "      <td>[2021.2]</td>\n",
       "    </tr>\n",
       "    <tr>\n",
       "      <th>22013</th>\n",
       "      <td>PY-51589</td>\n",
       "      <td>1636892605382</td>\n",
       "      <td>Documentation Pop-up, wrong styling.</td>\n",
       "      <td>PC-212.5457.59, JRE 11.0.12+7-b1504.40x64 JetB...</td>\n",
       "      <td>[]</td>\n",
       "    </tr>\n",
       "  </tbody>\n",
       "</table>\n",
       "<p>22014 rows × 5 columns</p>\n",
       "</div>"
      ],
      "text/plain": [
       "      idReadable        created  \\\n",
       "0       PY-22135  1483471995465   \n",
       "1       PY-22143  1483528763930   \n",
       "2       PY-22145  1483545972098   \n",
       "3       PY-22149  1483572086024   \n",
       "4       PY-22128  1483387969625   \n",
       "...          ...            ...   \n",
       "22009   PY-51597  1636879129851   \n",
       "22010   PY-51594  1636908525899   \n",
       "22011   PY-51588  1636866008572   \n",
       "22012   PY-51595  1636912616563   \n",
       "22013   PY-51589  1636892605382   \n",
       "\n",
       "                                                 summary  \\\n",
       "0      \"Parameter foo unfilled\": false positives for ...   \n",
       "1      Python Extract Superclass: Incorrect Order of ...   \n",
       "2      Inspection does not report 'Unresolved Referen...   \n",
       "3            ipython notebook clear_output() not working   \n",
       "4      False negative: no error for round brackets in...   \n",
       "...                                                  ...   \n",
       "22009  Intellij don't recognize python3 installed by ...   \n",
       "22010  url tag in django template that uses filters o...   \n",
       "22011                Variable incorrectly marked as used   \n",
       "22012                    Warn on invalid iterable unpack   \n",
       "22013               Documentation Pop-up, wrong styling.   \n",
       "\n",
       "                                             description Affected versions  \n",
       "0      I'm getting false \"Incorrect call argument\" in...          [2016.3]  \n",
       "1      When extracting superclasses, if extractions i...          [2016.3]  \n",
       "2      If a variable is deleted using the `del` state...          [2016.2]  \n",
       "3      Below code should print only once \"Hellow Worl...                []  \n",
       "4      I believe it's rather a common typo to use rou...          [2017.1]  \n",
       "...                                                  ...               ...  \n",
       "22009  \\n\\nIU-212.5457.46, JRE 11.0.12+7-b1504.40x64 ...                []  \n",
       "22010  When using the {% url %} tag in a Django templ...                []  \n",
       "22011  Hi, in this example, tha variable 'idocking' i...                []  \n",
       "22012  ```python\\nimport time\\n\\ndef foo() -> float:\\...          [2021.2]  \n",
       "22013  PC-212.5457.59, JRE 11.0.12+7-b1504.40x64 JetB...                []  \n",
       "\n",
       "[22014 rows x 5 columns]"
      ]
     },
     "execution_count": 51,
     "metadata": {},
     "output_type": "execute_result"
    }
   ],
   "source": [
    "data = pd.read_json('pycharm_issues.json', lines=True)\n",
    "data"
   ]
  },
  {
   "cell_type": "markdown",
   "metadata": {},
   "source": [
    "Для анализа будем использовать только summary каждого issue, поэтому вытащим их в отдельный массив. Также сохраним маски для двух интересуемых нас версий PyCharm."
   ]
  },
  {
   "cell_type": "code",
   "execution_count": 52,
   "metadata": {},
   "outputs": [],
   "source": [
    "summaries = data.summary.values\n",
    "affects2 = data[\"Affected versions\"].apply(lambda x: '2020.2' in x).values\n",
    "affects3 = data[\"Affected versions\"].apply(lambda x: '2020.3' in x).values"
   ]
  },
  {
   "cell_type": "markdown",
   "metadata": {},
   "source": [
    "## Обработка данных\n",
    "\n",
    "Разобъем каждое summary на токены и удалим все stopwords и пунктуацию. Также в качестве stopwords будем рассматривать такие слова, как pycharm, python и другие наиболее часто встречающиеся слова, не помогающие определить тему сообщения."
   ]
  },
  {
   "cell_type": "code",
   "execution_count": 53,
   "metadata": {},
   "outputs": [],
   "source": [
    "sw = set(stopwords.words('english'))\n",
    "sw.update(['pycharm', 'python', \"n't\", 'doe'])\n",
    "punc = set(punctuation)\n",
    "punc.update(['``', \"''\"])\n",
    "lematizer = nltk.stem.WordNetLemmatizer()"
   ]
  },
  {
   "cell_type": "code",
   "execution_count": 54,
   "metadata": {},
   "outputs": [],
   "source": [
    "summaries = [nltk.tokenize.word_tokenize(summary) for summary in summaries]\n",
    "summaries = [[lematizer.lemmatize(token.strip().lower()) for token in summary] for summary in summaries]\n",
    "summaries = [[token for token in summary if token not in punc and token not in sw] for summary in summaries]"
   ]
  },
  {
   "cell_type": "markdown",
   "metadata": {},
   "source": [
    "Из оставшихся слов составим словарь."
   ]
  },
  {
   "cell_type": "code",
   "execution_count": 55,
   "metadata": {},
   "outputs": [],
   "source": [
    "words = []\n",
    "for line in summaries:\n",
    "    words.extend(line)\n",
    "words = list(set(words))\n",
    "word_index = dict()\n",
    "for i, word in enumerate(words):\n",
    "    word_index[word] = i"
   ]
  },
  {
   "cell_type": "markdown",
   "metadata": {},
   "source": [
    "Для каждого сообщения запишем, сколько раз в нем встречается каждое слово. Матрица получится большая и разреженная, поэтому переведем её в sparse matrix."
   ]
  },
  {
   "cell_type": "code",
   "execution_count": 56,
   "metadata": {},
   "outputs": [],
   "source": [
    "X = np.zeros((len(summaries), len(words)))\n",
    "for i, summary in enumerate(summaries):\n",
    "    for word in summary:\n",
    "        X[i, word_index[word]] += 1\n",
    "X = sp.sparse.coo_matrix(X)"
   ]
  },
  {
   "cell_type": "markdown",
   "metadata": {},
   "source": [
    "## Обучение модели и визуализация\n",
    "\n",
    "Обучим LDA на получившейся матрице. n_topics я увеличивал, пока результаты не стали хотя бы как-то интерпретироваться."
   ]
  },
  {
   "cell_type": "code",
   "execution_count": 67,
   "metadata": {},
   "outputs": [
    {
     "name": "stdout",
     "output_type": "stream",
     "text": [
      "iteration: 1 of max_iter: 20\n",
      "iteration: 2 of max_iter: 20\n",
      "iteration: 3 of max_iter: 20\n",
      "iteration: 4 of max_iter: 20\n",
      "iteration: 5 of max_iter: 20, perplexity: 2524.1849\n",
      "iteration: 6 of max_iter: 20\n",
      "iteration: 7 of max_iter: 20\n",
      "iteration: 8 of max_iter: 20\n",
      "iteration: 9 of max_iter: 20\n",
      "iteration: 10 of max_iter: 20, perplexity: 2298.0748\n",
      "iteration: 11 of max_iter: 20\n",
      "iteration: 12 of max_iter: 20\n",
      "iteration: 13 of max_iter: 20\n",
      "iteration: 14 of max_iter: 20\n",
      "iteration: 15 of max_iter: 20, perplexity: 2252.0000\n",
      "iteration: 16 of max_iter: 20\n",
      "iteration: 17 of max_iter: 20\n",
      "iteration: 18 of max_iter: 20\n",
      "iteration: 19 of max_iter: 20\n",
      "iteration: 20 of max_iter: 20, perplexity: 2237.1023\n"
     ]
    }
   ],
   "source": [
    "n_topics = 15\n",
    "lda = LatentDirichletAllocation(n_topics, max_iter=20, random_state=1, verbose=1, evaluate_every=5, n_jobs=8)\n",
    "X_topics = lda.fit_transform(X)\n",
    "topics_words = lda.components_"
   ]
  },
  {
   "cell_type": "markdown",
   "metadata": {},
   "source": [
    "Средние частоты топиков в двух версиях pycharm:"
   ]
  },
  {
   "cell_type": "code",
   "execution_count": 68,
   "metadata": {},
   "outputs": [],
   "source": [
    "X_topics_2 = X_topics[affects2].sum(axis=0)\n",
    "X_topics_3 = X_topics[affects3].sum(axis=0)"
   ]
  },
  {
   "cell_type": "markdown",
   "metadata": {},
   "source": [
    "Наиболее втречаемые слова в каждом топике:"
   ]
  },
  {
   "cell_type": "code",
   "execution_count": 69,
   "metadata": {},
   "outputs": [],
   "source": [
    "topics = []\n",
    "for topic in topics_words:\n",
    "    indices = topic.argsort()[:-8:-1]\n",
    "    topics.append([words[index] for index in indices])"
   ]
  },
  {
   "cell_type": "markdown",
   "metadata": {},
   "source": [
    "Визуализация всего этого:"
   ]
  },
  {
   "cell_type": "code",
   "execution_count": 70,
   "metadata": {},
   "outputs": [
    {
     "data": {
      "image/png": "[encoded data removed]",
      "text/plain": [
       "<Figure size 720x432 with 1 Axes>"
      ]
     },
     "metadata": {
      "needs_background": "light"
     },
     "output_type": "display_data"
    },
    {
     "name": "stdout",
     "output_type": "stream",
     "text": [
      "0th topic: error, working, version, syntax, highlighting, update, message\n",
      "1th topic: project, file, new, open, setting, freeze, window\n",
      "2th topic: line, string, expected, instead, wrong, literal, comment\n",
      "3th topic: debugger, django, exception, stop, breakpoints, step, debugging\n",
      "4th topic: type, hint, incorrect, usage, function, support, return\n",
      "5th topic: environment, http, web, feedback, reference, file, slow\n",
      "6th topic: code, completion, process, terminal, inspection, icon, variable\n",
      "7th topic: false, class, method, positive, argument, function, warning\n",
      "8th topic: test, run, configuration, directory, module, file, pytest\n",
      "9th topic: debug, shortcut, file, work, keyboard, menu, move\n",
      "10th topic: interpreter, remote, server, project, ssh, docker, docker-compose\n",
      "11th topic: window, view, template, tool, variable, feature, data\n",
      "12th topic: package, import, module, install, installed, using, even\n",
      "13th topic: console, jupyter, notebook, cell, output, preview, failed\n",
      "14th topic: path, find, docker, script, search, compose, file\n"
     ]
    }
   ],
   "source": [
    "plt.figure(figsize=(10, 6))\n",
    "plt.title('Frequencies of topics')\n",
    "plt.bar(range(n_topics), X_topics_2 / sum(X_topics_2), align='edge', width=-0.4, label='2020.2')\n",
    "plt.bar(range(n_topics), X_topics_3 / sum(X_topics_3), align='edge', width=0.4, label='2020.3')\n",
    "plt.legend()\n",
    "plt.show()\n",
    "for i, topic in enumerate(topics):\n",
    "    print(f'{i}th topic:', ', '.join(topic))"
   ]
  },
  {
   "cell_type": "markdown",
   "metadata": {},
   "source": [
    "# Интерпретация результатов\n",
    "\n",
    "По гистограмме видно, что в версии 2020.2 среди топиков выделялись три наиболее встречаемых: 4, 7, 13. Судя по наиболее встречаемым словам, можно предположить, о чем эти топики:\n",
    "\n",
    "(4) неверные подсказки, связанные с использованием функций (например, возвращаемый тип),\n",
    "\n",
    "(7) ложные предупреждения, связанные с работой с классами и методами,\n",
    "\n",
    "(13) ошибки в работе с jupyter notebook. \n",
    "\n",
    "Разница с релизом 2020.3 небольшая, но наиболее заметна в топиках 12 и 13. Похоже, что в этом релизе исправили работу с jupyter notebook, однако появились проблемы с импортированием установленных модулей.\n"
   ]
  },
  {
   "cell_type": "markdown",
   "metadata": {},
   "source": []
  }
 ],
 "metadata": {
  "interpreter": {
   "hash": "6c21b738d3baccab23687aa466aadc66c80de4f069f00107e19b0c6babad90f9"
  },
  "kernelspec": {
   "display_name": "Python 3.9.7 64-bit ('main': conda)",
   "name": "python3"
  },
  "language_info": {
   "codemirror_mode": {
    "name": "ipython",
    "version": 3
   },
   "file_extension": ".py",
   "mimetype": "text/x-python",
   "name": "python",
   "nbconvert_exporter": "python",
   "pygments_lexer": "ipython3",
   "version": "3.9.7"
  },
  "orig_nbformat": 4
 },
 "nbformat": 4,
 "nbformat_minor": 2
}
